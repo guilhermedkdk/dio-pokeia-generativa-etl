{
  "nbformat": 4,
  "nbformat_minor": 0,
  "metadata": {
    "colab": {
      "provenance": [],
      "authorship_tag": "ABX9TyNvuFpYQX6jeG7PEgeTM95e",
      "include_colab_link": true
    },
    "kernelspec": {
      "name": "python3",
      "display_name": "Python 3"
    },
    "language_info": {
      "name": "python"
    }
  },
  "cells": [
    {
      "cell_type": "markdown",
      "metadata": {
        "id": "view-in-github",
        "colab_type": "text"
      },
      "source": [
        "<a href=\"https://colab.research.google.com/github/guilhermedkdk/dio-pokeia-generativa-etl/blob/main/SDW2023_POKE_ETL.ipynb\" target=\"_parent\"><img src=\"https://colab.research.google.com/assets/colab-badge.svg\" alt=\"Open In Colab\"/></a>"
      ]
    },
    {
      "cell_type": "markdown",
      "source": [
        "## Imports\n"
      ],
      "metadata": {
        "id": "BNZURIzs1BrP"
      }
    },
    {
      "cell_type": "code",
      "execution_count": 3,
      "metadata": {
        "id": "wGghq9O90cv0"
      },
      "outputs": [],
      "source": [
        "import pandas\n",
        "import requests\n",
        "import json"
      ]
    },
    {
      "cell_type": "markdown",
      "source": [
        "## Extract\n"
      ],
      "metadata": {
        "id": "P8etREI23JKy"
      }
    },
    {
      "cell_type": "code",
      "source": [
        "df = pandas.read_csv('poke-dataframe.csv')\n",
        "user_id = df['ID'].tolist()\n",
        "user_name = df['NAME'].tolist()\n",
        "user_gen = df['GENERATION'].tolist()\n",
        "user_need = df['NEED'].tolist()\n",
        "user_fteam = df['FINAL TEAM'].tolist()"
      ],
      "metadata": {
        "id": "u1ArzKVY97C8"
      },
      "execution_count": 43,
      "outputs": []
    },
    {
      "cell_type": "markdown",
      "source": [
        "## Transform\n"
      ],
      "metadata": {
        "id": "Y6wnpSLHD_Zn"
      }
    },
    {
      "cell_type": "code",
      "source": [
        "!pip install openai"
      ],
      "metadata": {
        "id": "Vh618chd7_vj"
      },
      "execution_count": null,
      "outputs": []
    },
    {
      "cell_type": "code",
      "source": [
        "import openai\n",
        "\n",
        "openai_api_key = 'INSIRA CHAVE OPENAI'\n",
        "openai.api_key = openai_api_key\n",
        "\n",
        "def generate_ai_team(user_name, user_gen, user_need):\n",
        "  completion = openai.ChatCompletion.create(\n",
        "      model = \"gpt-3.5-turbo\",\n",
        "      messages = [\n",
        "          {\n",
        "              \"role\": \"system\",\n",
        "              \"content\": \"You are a Pokemon specialist of all generations\"\n",
        "          },\n",
        "          {\n",
        "              \"role\": \"user\",\n",
        "              \"content\": f\"{user_need} using only generation {user_gen} pokemons for the user {user_name} (Only generate the list of choosen pokemons and the user name)\"\n",
        "          }\n",
        "      ]\n",
        "  )\n",
        "  return completion.choices[0].message.content.strip('\\\"')"
      ],
      "metadata": {
        "id": "18G-rggmEJSe"
      },
      "execution_count": 46,
      "outputs": []
    },
    {
      "cell_type": "markdown",
      "source": [
        "## Load\n"
      ],
      "metadata": {
        "id": "IpbEqfNz-elD"
      }
    },
    {
      "cell_type": "code",
      "source": [
        "for i in range(0, len(user_id), 1):\n",
        "  user_fteam[i] = generate_ai_team(user_name[i], user_gen[i], user_need[i])\n",
        "\n",
        "print(user_fteam)"
      ],
      "metadata": {
        "id": "YdTQz3PX-kO0"
      },
      "execution_count": null,
      "outputs": []
    }
  ]
}